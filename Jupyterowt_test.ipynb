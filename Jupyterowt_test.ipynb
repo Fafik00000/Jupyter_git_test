{
 "cells": [
  {
   "cell_type": "code",
   "execution_count": 1,
   "id": "b300def2-bb3f-4584-864b-76283bb482b0",
   "metadata": {},
   "outputs": [
    {
     "data": {
      "text/plain": [
       "40"
      ]
     },
     "execution_count": 1,
     "metadata": {},
     "output_type": "execute_result"
    }
   ],
   "source": [
    "def double(x):\n",
    "    return x * 2\n",
    "double(20)"
   ]
  },
  {
   "cell_type": "code",
   "execution_count": null,
   "id": "d3d154e5-54d8-46fb-9f68-0b4666ebdd84",
   "metadata": {},
   "outputs": [],
   "source": []
  }
 ],
 "metadata": {
  "kernelspec": {
   "display_name": "venv_julia_sda5",
   "language": "python",
   "name": "venv_julia_sda5"
  },
  "language_info": {
   "codemirror_mode": {
    "name": "ipython",
    "version": 3
   },
   "file_extension": ".py",
   "mimetype": "text/x-python",
   "name": "python",
   "nbconvert_exporter": "python",
   "pygments_lexer": "ipython3",
   "version": "3.10.4"
  }
 },
 "nbformat": 4,
 "nbformat_minor": 5
}
