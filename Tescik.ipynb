{
 "cells": [
  {
   "cell_type": "code",
   "execution_count": 1,
   "id": "f39ce0f8-d0f0-43db-9fc0-8c7cfd673896",
   "metadata": {},
   "outputs": [
    {
     "data": {
      "text/plain": [
       "468"
      ]
     },
     "execution_count": 1,
     "metadata": {},
     "output_type": "execute_result"
    }
   ],
   "source": [
    "def double(x):\n",
    "    return x * 2\n",
    "double(234)"
   ]
  },
  {
   "cell_type": "code",
   "execution_count": null,
   "id": "513d9b54-7fa3-41e4-a3c0-794a48fe735f",
   "metadata": {},
   "outputs": [],
   "source": []
  }
 ],
 "metadata": {
  "kernelspec": {
   "display_name": "venv_julia_sda5",
   "language": "python",
   "name": "venv_julia_sda5"
  },
  "language_info": {
   "codemirror_mode": {
    "name": "ipython",
    "version": 3
   },
   "file_extension": ".py",
   "mimetype": "text/x-python",
   "name": "python",
   "nbconvert_exporter": "python",
   "pygments_lexer": "ipython3",
   "version": "3.10.4"
  }
 },
 "nbformat": 4,
 "nbformat_minor": 5
}
